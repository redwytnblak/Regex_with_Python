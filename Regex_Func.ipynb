{
 "cells": [
  {
   "cell_type": "markdown",
   "metadata": {},
   "source": [
    "## This cell contains several different functions meant to break out the tasks required to evaluate the text for a regular expression match. It is NOT the final function. "
   ]
  },
  {
   "cell_type": "code",
   "execution_count": 1,
   "metadata": {},
   "outputs": [],
   "source": [
    "import re\n",
    "_NOT = \"NOT\"\n",
    "_OR = \"OR\"\n",
    "_AND = \"AND\"\n",
    "_PROX = \"/\"\n",
    "\n",
    "# - Split the input string containing set of words in to an array of words and append that to the result\n",
    "def appendString(s, r):\n",
    "  if s==\"\":\n",
    "    return r\n",
    "  s=s.strip()\n",
    "  r+=s.split(\" \")\n",
    "  return r\n",
    "\n",
    "# - Identifying nested structure architecture for a query string parsed on parentheses. eg: \"((a b) c)\" => [[['a', 'b'], 'c']]\n",
    "def createNestedStructure(s):\n",
    "  i=0\n",
    "  result=list()\n",
    "  ele = \"\"\n",
    "  while(i<len(s)):\n",
    "    if s[i]=='(':\n",
    "      result = appendString(ele, result)\n",
    "      ele=\"\"\n",
    "      r, k = createNestedStructure(s[i+1:])\n",
    "      result.append(r)\n",
    "      i+=k+1\n",
    "    elif s[i]==')':\n",
    "      result = appendString(ele, result)\n",
    "      ele=\"\"\n",
    "      return result, i\n",
    "    else:\n",
    "      ele+=s[i]\n",
    "    i+=1\n",
    "  result = appendString(ele, result)\n",
    "  return result\n",
    "\n",
    "# - Check to see if the array contains \"/n\" literal. if so return the index of that literal in the array for regex use. \n",
    "def hasMultiplicity(arr):\n",
    "  for i in range(len(arr)):\n",
    "    if type(arr[i])==str and arr[i].startswith(_PROX):\n",
    "      return i\n",
    "  return -1\n",
    "\n",
    "# - parse the nested query structure with the verbiage OR, NOT, AND, /n.\n",
    "def parseStructure(struct):\n",
    "  result = list()\n",
    "  for ele in struct:\n",
    "    if type(ele)==list:\n",
    "      result.append(parseStructure(ele))\n",
    "    else:\n",
    "      result.append(ele)  \n",
    "  struct = result\n",
    "  if _NOT in struct:\n",
    "    i = struct.index(_NOT)\n",
    "    if len(struct)==2:\n",
    "      struct = [_NOT, struct[i+1]]\n",
    "    else:\n",
    "      struct = struct[:i]+[[_NOT, struct[i+1]]]+struct[i+2:]\n",
    "  i = hasMultiplicity(struct)\n",
    "  if i>=0:\n",
    "    n = int(struct[i].replace(_PROX,\"\"))\n",
    "    struct = [_PROX, n, struct[i-1], struct[i+1]]\n",
    "  else:\n",
    "    if _AND in struct:\n",
    "      struct = [_AND, struct[0], struct[2]]\n",
    "    else:\n",
    "      if _OR in struct:\n",
    "        struct = [_OR, struct[0], struct[2]]\n",
    "      else:\n",
    "        struct = \" \".join(struct) if type(struct)==list and struct[0]!=_NOT and struct[0] else struct\n",
    "    \n",
    "  return struct\n",
    "\n",
    "# Creating regex filters using the provided verbiage in the search terms. I used the following documentation. \n",
    "# https://docs.python.org/3/library/re.html\n",
    "# https://docs.python.org/3/howto/regex.html\n",
    "\n",
    "def createRegularExpression(struct):\n",
    "  if struct[0]==_AND:\n",
    "    if struct[1][0] == _NOT or struct[2][0]==_NOT:\n",
    "      if struct[1][0] == _NOT:\n",
    "        t_exp = createRegularExpression(struct[1][1])\n",
    "        n_exp1 = \"(^((?!\"+t_exp+\").)*)\"\n",
    "        n_exp2 = \"(((?!\"+t_exp+\").)*$)\"\n",
    "        expr = createRegularExpression(struct[2])\n",
    "      else:\n",
    "        t_exp = createRegularExpression(struct[2][1])\n",
    "        n_exp1 = \"(^((?!\"+t_exp+\").)*)\"\n",
    "        n_exp2 = \"(((?!\"+t_exp+\").)*$)\"\n",
    "        expr = createRegularExpression(struct[1])\n",
    "      return n_exp1+expr+n_exp2\n",
    "    else:\n",
    "      expr1 = createRegularExpression(struct[1])\n",
    "      expr2 = createRegularExpression(struct[2])\n",
    "      return \"((\"+expr1+\" (\\S+ )*\"+expr2+\")|(\"+expr2+\" (\\S+ )*\"+expr1+\"))\"\n",
    "  if struct[0]==_OR:\n",
    "    expr1 = createRegularExpression(struct[1])\n",
    "    expr2 = createRegularExpression(struct[2])\n",
    "    return \"(\"+expr1+\"|\"+expr2+\")\"\n",
    "  if struct[0]==_NOT:\n",
    "    expr = createRegularExpression(struct[1])\n",
    "    return \"(^((?!\"+expr+\").)*$)\"\n",
    "  if struct[0]==_PROX:\n",
    "    expr1 = createRegularExpression(struct[2])\n",
    "    expr2 = createRegularExpression(struct[3])    \n",
    "    n_str = str(struct[1])\n",
    "    # return expr1+\" (\\S+ ){0,\"+n_str+\"}\"+expr2\n",
    "    return \"((\"+expr1+\" (\\S+ ){0,\"+n_str+\"}\"+expr2+\")|(\"+expr2+\" (\\S+ ){0,\"+n_str+\"}\"+expr1+\"))\"\n",
    "  return \"\\\\b\"+struct+\"\\\\b\""
   ]
  },
  {
   "cell_type": "markdown",
   "metadata": {},
   "source": [
    "## This cell contains the final function. Running this cell will prompt the user to enter a query using the four operators outlined in the Read Me section and text to search. If the search is found in the text, a boolean operator of True will be returned. A return of False will be initiated if otherwise."
   ]
  },
  {
   "cell_type": "code",
   "execution_count": 2,
   "metadata": {},
   "outputs": [
    {
     "name": "stdout",
     "output_type": "stream",
     "text": [
      "What are you looking for?:bananas /2 apples\n",
      "Where are you looking for it?:bananas with apples\n",
      "True\n"
     ]
    }
   ],
   "source": [
    "# - see if the query matche swith a document string\n",
    "def Regex_Func(query, docString):\n",
    "  a = createNestedStructure(query)\n",
    "  b = parseStructure(a)\n",
    "  c = createRegularExpression(b)\n",
    "  return re.search(c, docString, re.IGNORECASE)!=None\n",
    "\n",
    "\n",
    "query = input('What are you looking for?:')\n",
    "text = input('Where are you looking for it?:')\n",
    "\n",
    "print(Regex_Func(query, text))"
   ]
  },
  {
   "cell_type": "markdown",
   "metadata": {},
   "source": [
    "## TESTING / WORKING ##"
   ]
  },
  {
   "cell_type": "code",
   "execution_count": null,
   "metadata": {},
   "outputs": [],
   "source": [
    "\n",
    "s1 = '(apple AND NOT orange) OR green'\n",
    "t1 = 'green orange and apple pie'\n",
    "\n",
    "print(Regex_Func(s1, t1))"
   ]
  },
  {
   "cell_type": "code",
   "execution_count": null,
   "metadata": {},
   "outputs": [],
   "source": []
  }
 ],
 "metadata": {
  "kernelspec": {
   "display_name": "Python 3",
   "language": "python",
   "name": "python3"
  },
  "language_info": {
   "codemirror_mode": {
    "name": "ipython",
    "version": 3
   },
   "file_extension": ".py",
   "mimetype": "text/x-python",
   "name": "python",
   "nbconvert_exporter": "python",
   "pygments_lexer": "ipython3",
   "version": "3.8.8"
  }
 },
 "nbformat": 4,
 "nbformat_minor": 4
}
